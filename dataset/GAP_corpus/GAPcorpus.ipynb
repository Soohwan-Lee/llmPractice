{
 "cells": [
  {
   "cell_type": "code",
   "execution_count": 1,
   "metadata": {},
   "outputs": [
    {
     "name": "stdout",
     "output_type": "stream",
     "text": [
      "Dataset already exists at /Users/soohwanlee/.convokit/downloads/gap-corpus\n",
      "<convokit.model.corpus.Corpus object at 0x32c33b790>\n"
     ]
    }
   ],
   "source": [
    "# https://convokit.cornell.edu/documentation/gap.html\n",
    "from convokit import Corpus, download\n",
    "gap_corpus = Corpus(filename=download(\"gap-corpus\"))\n",
    "print(gap_corpus)"
   ]
  },
  {
   "cell_type": "code",
   "execution_count": 2,
   "metadata": {},
   "outputs": [
    {
     "name": "stdout",
     "output_type": "stream",
     "text": [
      "Number of Speakers: 84\n",
      "Number of Utterances: 8009\n",
      "Number of Conversations: 28\n"
     ]
    }
   ],
   "source": [
    "gap_corpus.print_summary_stats()"
   ]
  },
  {
   "cell_type": "code",
   "execution_count": 4,
   "metadata": {},
   "outputs": [
    {
     "name": "stdout",
     "output_type": "stream",
     "text": [
      "<bound method Corpus.get_conversation of <convokit.model.corpus.Corpus object at 0x32c33b790>>\n"
     ]
    }
   ],
   "source": [
    "print(gap_corpus.get_conversation)"
   ]
  },
  {
   "cell_type": "code",
   "execution_count": 8,
   "metadata": {},
   "outputs": [
    {
     "name": "stdout",
     "output_type": "stream",
     "text": [
      "Utterance(id: '13.Yellow.118', conversation_id: 13.Yellow.1, reply-to: 13.Blue.49, speaker: Speaker(id: '13.Yellow', vectors: [], meta: ConvoKitMeta({'Year at UFV': 2, 'Gender': 1, 'English': 1, 'AIS': 77.0, 'AII': 24.0, 'Ind_TE': 4, 'Ind_WW': 4.0, 'Ind_TM': 3.0, 'Ind_Eff': 4.0, 'Ind_QW': 3.0, 'Ind_Sat': 3.6, 'Ind_Lead': 4, 'Group Number': '13'})), timestamp: 04:28.9, text: '\"Lets go f \"', vectors: [], meta: ConvoKitMeta({'End': '04:30.1', 'Duration': '00:01.1', 'Sentiment': nan, 'Decision': nan, 'Private': nan, 'Survival Item': nan}))\n"
     ]
    }
   ],
   "source": [
    "# Let's see this in a random utterance from the r/Cornell Corpus\n",
    "utt = gap_corpus.random_utterance()\n",
    "print(utt)"
   ]
  },
  {
   "cell_type": "code",
   "execution_count": 10,
   "metadata": {},
   "outputs": [
    {
     "name": "stdout",
     "output_type": "stream",
     "text": [
      "ID: 13.Yellow.118 \n",
      "\n"
     ]
    }
   ],
   "source": [
    "# primary data fields\n",
    "print(\"ID:\", utt.id, \"\\n\")"
   ]
  },
  {
   "cell_type": "code",
   "execution_count": 11,
   "metadata": {},
   "outputs": [
    {
     "name": "stdout",
     "output_type": "stream",
     "text": [
      "Reply_to: 13.Blue.49 \n",
      "\n"
     ]
    }
   ],
   "source": [
    "print(\"Reply_to:\", utt.reply_to, \"\\n\")"
   ]
  },
  {
   "cell_type": "code",
   "execution_count": 12,
   "metadata": {},
   "outputs": [
    {
     "name": "stdout",
     "output_type": "stream",
     "text": [
      "Timestamp: 04:28.9 \n",
      "\n"
     ]
    }
   ],
   "source": [
    "print(\"Timestamp:\", utt.timestamp, \"\\n\")"
   ]
  },
  {
   "cell_type": "code",
   "execution_count": 13,
   "metadata": {},
   "outputs": [
    {
     "name": "stdout",
     "output_type": "stream",
     "text": [
      "Text: \"Lets go f \" \n",
      "\n"
     ]
    }
   ],
   "source": [
    "print(\"Text:\", utt.text, \"\\n\")"
   ]
  },
  {
   "cell_type": "code",
   "execution_count": 17,
   "metadata": {},
   "outputs": [
    {
     "name": "stdout",
     "output_type": "stream",
     "text": [
      "\"So what did everyone do as one\"\n"
     ]
    }
   ],
   "source": [
    "for utt in gap_corpus.iter_utterances():\n",
    "    print(utt.text)\n",
    "    break"
   ]
  },
  {
   "cell_type": "code",
   "execution_count": 18,
   "metadata": {},
   "outputs": [
    {
     "data": {
      "text/html": [
       "<div>\n",
       "<style scoped>\n",
       "    .dataframe tbody tr th:only-of-type {\n",
       "        vertical-align: middle;\n",
       "    }\n",
       "\n",
       "    .dataframe tbody tr th {\n",
       "        vertical-align: top;\n",
       "    }\n",
       "\n",
       "    .dataframe thead th {\n",
       "        text-align: right;\n",
       "    }\n",
       "</style>\n",
       "<table border=\"1\" class=\"dataframe\">\n",
       "  <thead>\n",
       "    <tr style=\"text-align: right;\">\n",
       "      <th></th>\n",
       "      <th>vectors</th>\n",
       "      <th>meta.Year at UFV</th>\n",
       "      <th>meta.Gender</th>\n",
       "      <th>meta.English</th>\n",
       "      <th>meta.AIS</th>\n",
       "      <th>meta.AII</th>\n",
       "      <th>meta.Ind_TE</th>\n",
       "      <th>meta.Ind_WW</th>\n",
       "      <th>meta.Ind_TM</th>\n",
       "      <th>meta.Ind_Eff</th>\n",
       "      <th>meta.Ind_QW</th>\n",
       "      <th>meta.Ind_Sat</th>\n",
       "      <th>meta.Ind_Lead</th>\n",
       "      <th>meta.Group Number</th>\n",
       "    </tr>\n",
       "    <tr>\n",
       "      <th>id</th>\n",
       "      <th></th>\n",
       "      <th></th>\n",
       "      <th></th>\n",
       "      <th></th>\n",
       "      <th></th>\n",
       "      <th></th>\n",
       "      <th></th>\n",
       "      <th></th>\n",
       "      <th></th>\n",
       "      <th></th>\n",
       "      <th></th>\n",
       "      <th></th>\n",
       "      <th></th>\n",
       "      <th></th>\n",
       "    </tr>\n",
       "  </thead>\n",
       "  <tbody>\n",
       "    <tr>\n",
       "      <th>1.Pink</th>\n",
       "      <td>[]</td>\n",
       "      <td>4</td>\n",
       "      <td>2</td>\n",
       "      <td>1</td>\n",
       "      <td>88.0</td>\n",
       "      <td>40.0</td>\n",
       "      <td>5</td>\n",
       "      <td>5.0</td>\n",
       "      <td>5.0</td>\n",
       "      <td>5.0</td>\n",
       "      <td>5.0</td>\n",
       "      <td>5.0</td>\n",
       "      <td>5</td>\n",
       "      <td>1</td>\n",
       "    </tr>\n",
       "    <tr>\n",
       "      <th>1.Blue</th>\n",
       "      <td>[]</td>\n",
       "      <td>1</td>\n",
       "      <td>2</td>\n",
       "      <td>1</td>\n",
       "      <td>64.0</td>\n",
       "      <td>76.0</td>\n",
       "      <td>5</td>\n",
       "      <td>5.0</td>\n",
       "      <td>5.0</td>\n",
       "      <td>5.0</td>\n",
       "      <td>5.0</td>\n",
       "      <td>5.0</td>\n",
       "      <td>2</td>\n",
       "      <td>1</td>\n",
       "    </tr>\n",
       "    <tr>\n",
       "      <th>1.Green</th>\n",
       "      <td>[]</td>\n",
       "      <td>6</td>\n",
       "      <td>1</td>\n",
       "      <td>2</td>\n",
       "      <td>85.0</td>\n",
       "      <td>12.0</td>\n",
       "      <td>4</td>\n",
       "      <td>5.0</td>\n",
       "      <td>5.0</td>\n",
       "      <td>4.0</td>\n",
       "      <td>5.0</td>\n",
       "      <td>4.6</td>\n",
       "      <td>4</td>\n",
       "      <td>1</td>\n",
       "    </tr>\n",
       "    <tr>\n",
       "      <th>10.Orange</th>\n",
       "      <td>[]</td>\n",
       "      <td>4</td>\n",
       "      <td>2</td>\n",
       "      <td>1</td>\n",
       "      <td>55.0</td>\n",
       "      <td>56.0</td>\n",
       "      <td>5</td>\n",
       "      <td>4.0</td>\n",
       "      <td>5.0</td>\n",
       "      <td>5.0</td>\n",
       "      <td>4.0</td>\n",
       "      <td>4.6</td>\n",
       "      <td>4</td>\n",
       "      <td>10</td>\n",
       "    </tr>\n",
       "    <tr>\n",
       "      <th>10.Pink</th>\n",
       "      <td>[]</td>\n",
       "      <td>1</td>\n",
       "      <td>1</td>\n",
       "      <td>1</td>\n",
       "      <td>57.0</td>\n",
       "      <td>33.0</td>\n",
       "      <td>5</td>\n",
       "      <td>4.0</td>\n",
       "      <td>4.0</td>\n",
       "      <td>5.0</td>\n",
       "      <td>4.0</td>\n",
       "      <td>4.4</td>\n",
       "      <td>3</td>\n",
       "      <td>10</td>\n",
       "    </tr>\n",
       "  </tbody>\n",
       "</table>\n",
       "</div>"
      ],
      "text/plain": [
       "          vectors meta.Year at UFV meta.Gender meta.English meta.AIS meta.AII  \\\n",
       "id                                                                              \n",
       "1.Pink         []                4           2            1     88.0     40.0   \n",
       "1.Blue         []                1           2            1     64.0     76.0   \n",
       "1.Green        []                6           1            2     85.0     12.0   \n",
       "10.Orange      []                4           2            1     55.0     56.0   \n",
       "10.Pink        []                1           1            1     57.0     33.0   \n",
       "\n",
       "          meta.Ind_TE meta.Ind_WW meta.Ind_TM meta.Ind_Eff meta.Ind_QW  \\\n",
       "id                                                                       \n",
       "1.Pink              5         5.0         5.0          5.0         5.0   \n",
       "1.Blue              5         5.0         5.0          5.0         5.0   \n",
       "1.Green             4         5.0         5.0          4.0         5.0   \n",
       "10.Orange           5         4.0         5.0          5.0         4.0   \n",
       "10.Pink             5         4.0         4.0          5.0         4.0   \n",
       "\n",
       "          meta.Ind_Sat meta.Ind_Lead meta.Group Number  \n",
       "id                                                      \n",
       "1.Pink             5.0             5                 1  \n",
       "1.Blue             5.0             2                 1  \n",
       "1.Green            4.6             4                 1  \n",
       "10.Orange          4.6             4                10  \n",
       "10.Pink            4.4             3                10  "
      ]
     },
     "execution_count": 18,
     "metadata": {},
     "output_type": "execute_result"
    }
   ],
   "source": [
    "gap_corpus.get_speakers_dataframe().head()"
   ]
  }
 ],
 "metadata": {
  "kernelspec": {
   "display_name": "llmpractice",
   "language": "python",
   "name": "python3"
  },
  "language_info": {
   "codemirror_mode": {
    "name": "ipython",
    "version": 3
   },
   "file_extension": ".py",
   "mimetype": "text/x-python",
   "name": "python",
   "nbconvert_exporter": "python",
   "pygments_lexer": "ipython3",
   "version": "3.9.19"
  }
 },
 "nbformat": 4,
 "nbformat_minor": 2
}
